{
 "nbformat": 4,
 "nbformat_minor": 0,
 "metadata": {
  "colab": {
   "name": "isag_train_test.ipynb",
   "provenance": [],
   "collapsed_sections": []
  },
  "kernelspec": {
   "name": "python3",
   "display_name": "Python 3"
  },
  "accelerator": "GPU",
  "pycharm": {
   "stem_cell": {
    "cell_type": "raw",
    "source": [],
    "metadata": {
     "collapsed": false
    }
   }
  }
 },
 "cells": [
  {
   "cell_type": "code",
   "metadata": {
    "id": "PtUZ6YuRcmRP",
    "colab_type": "code",
    "colab": {}
   },
   "source": [
    "from google.colab import drive\n",
    "drive.mount(\"/content/drive/\")"
   ],
   "execution_count": 0,
   "outputs": []
  },
  {
   "cell_type": "code",
   "metadata": {
    "id": "bnGNrAfwcqsw",
    "colab_type": "code",
    "colab": {}
   },
   "source": [
    "%cd /content/drive/My Drive/ISAG"
   ],
   "execution_count": 0,
   "outputs": []
  },
  {
   "cell_type": "code",
   "metadata": {
    "id": "GMV6zNOlcsKn",
    "colab_type": "code",
    "colab": {}
   },
   "source": [
    "!pip install git+https://github.com/qubvel/segmentation_models"
   ],
   "execution_count": 0,
   "outputs": []
  },
  {
   "cell_type": "code",
   "metadata": {
    "id": "FtjJVfrYTtHe",
    "colab_type": "code",
    "colab": {}
   },
   "source": [
    "from keras import backend as K\n",
    "import cv2\n",
    "import numpy as np\n",
    "import matplotlib.pyplot as plt\n",
    "from sklearn.utils import class_weight\n",
    "import keras\n",
    "from sklearn.model_selection import train_test_split\n",
    "from keras.callbacks import ModelCheckpoint\n",
    "from sklearn.metrics import classification_report\n",
    "from segmentation_models import Unet\n",
    "from segmentation_models.losses import bce_jaccard_loss\n",
    "from segmentation_models.metrics import iou_score\n",
    "from segmentation_models.backbones import get_preprocessing\n"
   ],
   "execution_count": 0,
   "outputs": []
  },
  {
   "cell_type": "code",
   "metadata": {
    "id": "mkHK72z8tcfE",
    "colab_type": "code",
    "colab": {}
   },
   "source": [
    "model_name = 'seresnext50'\n",
    "\n",
    "model = Unet(model_name, classes=2, input_shape=(512, 512, 3), encoder_weights='imagenet')\n",
    "model.summary()"
   ],
   "execution_count": 0,
   "outputs": []
  },
  {
   "cell_type": "code",
   "metadata": {
    "id": "Vzdv0rtJT3yY",
    "colab_type": "code",
    "cellView": "both",
    "colab": {}
   },
   "source": [
    "train_x= np.load('train_x.npy')\n",
    "train_y= np.load('train_y.npy')\n",
    "test_x= np.load('test_x.npy')\n",
    "test_y= np.load('test_y.npy')"
   ],
   "execution_count": 0,
   "outputs": []
  },
  {
   "cell_type": "code",
   "metadata": {
    "id": "2nj5MTSnvy5w",
    "colab_type": "code",
    "colab": {}
   },
   "source": [
    "train_y= np.load('train_y.npy')\n"
   ],
   "execution_count": 0,
   "outputs": []
  },
  {
   "cell_type": "code",
   "metadata": {
    "id": "q21z_Xe0T9UU",
    "colab_type": "code",
    "colab": {}
   },
   "source": [
    "model.compile('Adam', loss=bce_jaccard_loss, metrics=[iou_score])\n"
   ],
   "execution_count": 0,
   "outputs": []
  },
  {
   "cell_type": "code",
   "metadata": {
    "id": "MfM3rs2yUBmN",
    "colab_type": "code",
    "colab": {}
   },
   "source": [
    "y_ints = [y.argmax() for y in train_y]\n",
    "classes = np.array([0,1])\n",
    "class_weights = class_weight.compute_class_weight('balanced', classes, y_ints)"
   ],
   "execution_count": 0,
   "outputs": []
  },
  {
   "cell_type": "code",
   "metadata": {
    "id": "w8P4NudYohlr",
    "colab_type": "code",
    "colab": {}
   },
   "source": [
    "filepath=\"weights-improvement-{epoch:02d}-{val_iou_score:.2f}.hdf5\"\n",
    "checkpoint = ModelCheckpoint(filepath, monitor='val_iou_score', verbose=1, save_best_only=True, mode='max')\n",
    "callbacks_list = [checkpoint]"
   ],
   "execution_count": 0,
   "outputs": []
  },
  {
   "cell_type": "code",
   "metadata": {
    "id": "oDIm3OjQUD56",
    "colab_type": "code",
    "colab": {}
   },
   "source": [
    "batch_size = 6\n",
    "nb_epoch = 60\n",
    "\n",
    "history = model.fit(train_x, train_y, \n",
    "                 batch_size=batch_size, \n",
    "                 epochs=nb_epoch, verbose=1,\n",
    "                 class_weight=class_weights,\n",
    "                 validation_split = 0.1,\n",
    "                 callbacks=callbacks_list)"
   ],
   "execution_count": 0,
   "outputs": []
  },
  {
   "cell_type": "code",
   "metadata": {
    "id": "z45OXDY8kEv1",
    "colab_type": "code",
    "colab": {}
   },
   "source": [
    "model.load_weights('weights-improvement-12-0.83.hdf5')"
   ],
   "execution_count": 0,
   "outputs": []
  },
  {
   "cell_type": "code",
   "metadata": {
    "id": "sPfULwsXUKEW",
    "colab_type": "code",
    "colab": {}
   },
   "source": [
    "plt.plot(history.history['acc'])\n",
    "plt.plot(history.history['val_acc'])\n",
    "plt.title('Model Accuracy')\n",
    "plt.ylabel('Accuracy')\n",
    "plt.xlabel('Epoch')\n",
    "plt.legend(['Train', 'Validation'], loc='upper left')\n",
    "\n",
    "isim_fig = model_name + '_fig_acc.png'\n",
    "plt.savefig(isim_fig)"
   ],
   "execution_count": 0,
   "outputs": []
  },
  {
   "cell_type": "code",
   "metadata": {
    "id": "SddPpXvfUKvd",
    "colab_type": "code",
    "colab": {}
   },
   "source": [
    "test_say = 30\n",
    "deneme = list(range(test_say))\n",
    "for i in deneme:\n",
    "    A = np.zeros((1,512,512,3))\n",
    "    A[0,:,:,:] = test_x[i,:,:,:]\n",
    "    B = model.predict(A)\n",
    "    C = B[:,:,:,0]\n",
    "    D = C>0.5\n",
    "    D = D[0,:,:]\n",
    "    isim = 'sonuc_' + model_name + '_' + str(i) + '.tif'\n",
    "    cv2.imwrite(isim, 255*D)"
   ],
   "execution_count": 0,
   "outputs": []
  },
  {
   "cell_type": "code",
   "metadata": {
    "id": "wEmqe4pSuaXt",
    "colab_type": "code",
    "colab": {}
   },
   "source": [
    "deneme = list(range(543))\n",
    "for i in deneme:\n",
    "    A = test_x[i,:,:,:]   \n",
    "    isim = 'test_' + str(i) + '.tif'\n",
    "    cv2.imwrite(isim, A)"
   ],
   "execution_count": 0,
   "outputs": []
  },
  {
   "cell_type": "code",
   "metadata": {
    "id": "rJ3kPOdZuXdk",
    "colab_type": "code",
    "colab": {}
   },
   "source": [
    "deneme = list(range(30))\n",
    "for i in deneme:\n",
    "    A = test_y[i,:,:,:]\n",
    "    isim = 'label_' + str(i) + '.tif'\n",
    "    cv2.imwrite(isim, 255*A)"
   ],
   "execution_count": 0,
   "outputs": []
  },
  {
   "cell_type": "code",
   "metadata": {
    "id": "BMLDULyefiYd",
    "colab_type": "code",
    "colab": {}
   },
   "source": [
    "gt = test_y[:,:,:,0]\n",
    "pr = model.predict(test_x)\n",
    "pr = pr[:,:,:,0]\n",
    "x=pr>0.5\n",
    "test_y_2 = gt.ravel()\n",
    "A = x.ravel()\n",
    "classification = classification_report(test_y_2, A,digits=4)\n",
    "print(classification)"
   ],
   "execution_count": 0,
   "outputs": []
  }
 ]
}